{
  "nbformat": 4,
  "nbformat_minor": 0,
  "metadata": {
    "colab": {
      "provenance": []
    },
    "kernelspec": {
      "name": "python3",
      "display_name": "Python 3"
    },
    "language_info": {
      "name": "python"
    }
  },
  "cells": [
    {
      "cell_type": "code",
      "execution_count": 10,
      "metadata": {
        "id": "aX7Jcbw8GDo5"
      },
      "outputs": [],
      "source": [
        "class class_stack:\n",
        "\n",
        "    def __init__(self):\n",
        "        self.is_stack = []\n",
        "\n",
        "    def isEmpty(self):\n",
        "        if len(self.is_stack)== 0:\n",
        "            return True\n",
        "        return False\n",
        "    def push(self,e):\n",
        "        return self.is_stack.append(e)\n",
        "    def pop(self):\n",
        "        if not self.isEmpty():\n",
        "            return self.is_stack.pop()\n",
        "        else:\n",
        "            return None\n",
        "    def peek(self):\n",
        "        return self.is_stack[-1]\n",
        "    def size(self):\n",
        "        return len(self.is_stack)\n",
        "    def clear(self):\n",
        "        self.is_stack = []"
      ]
    },
    {
      "cell_type": "code",
      "source": [
        "f_list = \"{ A[i+1])=0 }\"\n",
        "s_list = \"If ((i ==0) && (j==0)\"\n",
        "t_list = \"While (it<10)) {it=1}\"\n",
        "fo_list = \"A[(i+1]) = 0\""
      ],
      "metadata": {
        "id": "6WKPImE1In77"
      },
      "execution_count": 14,
      "outputs": []
    },
    {
      "cell_type": "code",
      "source": [
        "data_stack = class_stack()\n",
        "\n",
        "lst = [ch for ch in t_list if ch in '(){}[]']\n",
        "\n",
        "for i in range(len(lst)):  # 리스트의 인덱스로 하나씩 확인\n",
        "    if lst[i] == '[' or lst[i] == '{' or lst[i] == '(':  # 만약 열린 괄호가 있다면\n",
        "        data_stack.push(lst[i])  # 해당 괄호를 스택에 저장\n",
        "    else:  # 닫는 괄호\n",
        "        if data_stack.isEmpty():  # 열리는 괄호가 없으면 오류\n",
        "            print(f\"{i}번째에 닫는 괄호 '{lst[i]}'가 있지만, 열리는 괄호가 없습니다.\")\n",
        "            break\n",
        "\n",
        "        is_check = data_stack.pop()  # 마지막 열린 괄호를 가져옴\n",
        "        is_need = None\n",
        "\n",
        "        # 열린 괄호에 대해 기대하는 닫힌 괄호 설정\n",
        "        if is_check == '[':\n",
        "            is_need = ']'\n",
        "        elif is_check == '{':\n",
        "            is_need = '}'\n",
        "        elif is_check == '(':\n",
        "            is_need = ')'\n",
        "\n",
        "        # 매칭이 안 되면 문제 출력\n",
        "        if lst[i] != is_need:\n",
        "            print(f\"문제: {i}번째에 열린 '{is_check}'가 {i}번째에 '{lst[i]}'로 잘못 닫혔습니다.\")\n",
        "            break\n",
        "else:\n",
        "    # 다 끝나고도 스택이 남아있으면 열기만 하고 닫지 않은 괄호가 있다는 뜻\n",
        "    if not data_stack.isEmpty():\n",
        "        is_check = data_stack.pop()\n",
        "        print(f\"문제: {i}번째에 열린 '{is_check}'가 닫히지 않았습니다.\")\n",
        "    else:\n",
        "        print(\"문제가 없습니다.\")"
      ],
      "metadata": {
        "colab": {
          "base_uri": "https://localhost:8080/"
        },
        "id": "FNmb7aNGfNoy",
        "outputId": "c2d3d3cd-36bf-4ac9-f0e1-2c9febfb76f8"
      },
      "execution_count": 16,
      "outputs": [
        {
          "output_type": "stream",
          "name": "stdout",
          "text": [
            "2번째에 닫는 괄호 ')'가 있지만, 열리는 괄호가 없습니다.\n"
          ]
        }
      ]
    }
  ]
}